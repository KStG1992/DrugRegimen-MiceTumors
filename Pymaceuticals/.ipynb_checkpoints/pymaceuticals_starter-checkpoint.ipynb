{
 "cells": [
  {
   "cell_type": "markdown",
   "metadata": {},
   "source": [
    "## Observations and Insights\n",
    "\n",
    "1. In reference to the bar plot, \"Number of Unique Mice of Each Regimen\", the mice are split evenly amound each drug. As a result, there should not be any bias in the data. \n",
    "\n",
    "2. In reference to the pie plots, the sex of the mice are practically 50/50. Therefore, there should not be a concern whether the sex of the mouse will impact the effectiveness of the drug. \n",
    "\n",
    "3. Out of the four drug regimens: Capomulin, Ramicane , Infubinol, and Ceftamin, Capomulin and Ramicane have the smallest range in final tumor size. For example, the IQR for Capomulin is 7.78 and the IQR for Ramicane is 9.09.\n",
    "\n",
    "4. For mice on Capomulin, there is a strong correlation between the average tumor size and the weight of the mouse. As a result, it is safe to assume the bigger the mouse, the bigger the tumor. "
   ]
  },
  {
   "cell_type": "markdown",
   "metadata": {},
   "source": []
  },
  {
   "cell_type": "code",
   "execution_count": 1,
   "metadata": {},
   "outputs": [
    {
     "data": {
      "text/html": [
       "<div>\n",
       "<style scoped>\n",
       "    .dataframe tbody tr th:only-of-type {\n",
       "        vertical-align: middle;\n",
       "    }\n",
       "\n",
       "    .dataframe tbody tr th {\n",
       "        vertical-align: top;\n",
       "    }\n",
       "\n",
       "    .dataframe thead th {\n",
       "        text-align: right;\n",
       "    }\n",
       "</style>\n",
       "<table border=\"1\" class=\"dataframe\">\n",
       "  <thead>\n",
       "    <tr style=\"text-align: right;\">\n",
       "      <th></th>\n",
       "      <th>Mouse ID</th>\n",
       "      <th>Drug Regimen</th>\n",
       "      <th>Sex</th>\n",
       "      <th>Age_months</th>\n",
       "      <th>Weight (g)</th>\n",
       "      <th>Timepoint</th>\n",
       "      <th>Tumor Volume (mm3)</th>\n",
       "      <th>Metastatic Sites</th>\n",
       "    </tr>\n",
       "  </thead>\n",
       "  <tbody>\n",
       "    <tr>\n",
       "      <th>0</th>\n",
       "      <td>k403</td>\n",
       "      <td>Ramicane</td>\n",
       "      <td>Male</td>\n",
       "      <td>21</td>\n",
       "      <td>16</td>\n",
       "      <td>0</td>\n",
       "      <td>45.000000</td>\n",
       "      <td>0</td>\n",
       "    </tr>\n",
       "    <tr>\n",
       "      <th>1</th>\n",
       "      <td>k403</td>\n",
       "      <td>Ramicane</td>\n",
       "      <td>Male</td>\n",
       "      <td>21</td>\n",
       "      <td>16</td>\n",
       "      <td>5</td>\n",
       "      <td>38.825898</td>\n",
       "      <td>0</td>\n",
       "    </tr>\n",
       "    <tr>\n",
       "      <th>2</th>\n",
       "      <td>k403</td>\n",
       "      <td>Ramicane</td>\n",
       "      <td>Male</td>\n",
       "      <td>21</td>\n",
       "      <td>16</td>\n",
       "      <td>10</td>\n",
       "      <td>35.014271</td>\n",
       "      <td>1</td>\n",
       "    </tr>\n",
       "    <tr>\n",
       "      <th>3</th>\n",
       "      <td>k403</td>\n",
       "      <td>Ramicane</td>\n",
       "      <td>Male</td>\n",
       "      <td>21</td>\n",
       "      <td>16</td>\n",
       "      <td>15</td>\n",
       "      <td>34.223992</td>\n",
       "      <td>1</td>\n",
       "    </tr>\n",
       "    <tr>\n",
       "      <th>4</th>\n",
       "      <td>k403</td>\n",
       "      <td>Ramicane</td>\n",
       "      <td>Male</td>\n",
       "      <td>21</td>\n",
       "      <td>16</td>\n",
       "      <td>20</td>\n",
       "      <td>32.997729</td>\n",
       "      <td>1</td>\n",
       "    </tr>\n",
       "  </tbody>\n",
       "</table>\n",
       "</div>"
      ],
      "text/plain": [
       "  Mouse ID Drug Regimen   Sex  Age_months  Weight (g)  Timepoint  \\\n",
       "0     k403     Ramicane  Male          21          16          0   \n",
       "1     k403     Ramicane  Male          21          16          5   \n",
       "2     k403     Ramicane  Male          21          16         10   \n",
       "3     k403     Ramicane  Male          21          16         15   \n",
       "4     k403     Ramicane  Male          21          16         20   \n",
       "\n",
       "   Tumor Volume (mm3)  Metastatic Sites  \n",
       "0           45.000000                 0  \n",
       "1           38.825898                 0  \n",
       "2           35.014271                 1  \n",
       "3           34.223992                 1  \n",
       "4           32.997729                 1  "
      ]
     },
     "execution_count": 1,
     "metadata": {},
     "output_type": "execute_result"
    }
   ],
   "source": [
    "# Dependencies and Setup\n",
    "import matplotlib.pyplot as plt\n",
    "import pandas as pd\n",
    "import numpy as np\n",
    "import scipy.stats as st\n",
    "\n",
    "# Study data files\n",
    "mouse_metadata_path = \"data/Mouse_metadata.csv\"\n",
    "study_results_path = \"data/Study_results.csv\"\n",
    "\n",
    "# Read the mouse data and the study results\n",
    "mouse_metadata = pd.read_csv(mouse_metadata_path)\n",
    "study_results = pd.read_csv(study_results_path)\n",
    "\n",
    "# Combine the data into a single dataset\n",
    "mouse_complete = pd.merge(mouse_metadata, study_results, on = 'Mouse ID', how = 'inner')\n",
    "\n",
    "# Display the data table for preview\n",
    "mouse_complete.head()"
   ]
  },
  {
   "cell_type": "code",
   "execution_count": 2,
   "metadata": {},
   "outputs": [
    {
     "name": "stdout",
     "output_type": "stream",
     "text": [
      "The Number of Mice: 1893\n"
     ]
    }
   ],
   "source": [
    "# Checking the number of mice.\n",
    "num_mouse = mouse_complete['Mouse ID'].value_counts().sum()\n",
    "\n",
    "print(f'The Number of Mice: {num_mouse}')"
   ]
  },
  {
   "cell_type": "code",
   "execution_count": 3,
   "metadata": {},
   "outputs": [
    {
     "name": "stdout",
     "output_type": "stream",
     "text": [
      "The Duplicate Mice by ID is:\n",
      "['g989']\n"
     ]
    }
   ],
   "source": [
    "# Getting the duplicate mice by ID number that shows up for Mouse ID and Timepoint. \n",
    "duplicate_mouse = mouse_complete[mouse_complete.duplicated(['Mouse ID', 'Timepoint'])]\n",
    "duplicate_mouse = duplicate_mouse['Mouse ID'].unique()\n",
    "\n",
    "print(f'The Duplicate Mice by ID is:\\n{duplicate_mouse}')"
   ]
  },
  {
   "cell_type": "code",
   "execution_count": 4,
   "metadata": {},
   "outputs": [
    {
     "name": "stdout",
     "output_type": "stream",
     "text": [
      "All the Data for the Duplicate Mouse ID:\n",
      "    Mouse ID Drug Regimen     Sex  Age_months  Weight (g)  Timepoint  \\\n",
      "908     g989     Propriva  Female          21          26          0   \n",
      "909     g989     Propriva  Female          21          26          0   \n",
      "910     g989     Propriva  Female          21          26          5   \n",
      "911     g989     Propriva  Female          21          26          5   \n",
      "912     g989     Propriva  Female          21          26         10   \n",
      "913     g989     Propriva  Female          21          26         10   \n",
      "914     g989     Propriva  Female          21          26         15   \n",
      "915     g989     Propriva  Female          21          26         15   \n",
      "916     g989     Propriva  Female          21          26         20   \n",
      "917     g989     Propriva  Female          21          26         20   \n",
      "\n",
      "     Tumor Volume (mm3)  Metastatic Sites  \n",
      "908           45.000000                 0  \n",
      "909           45.000000                 0  \n",
      "910           48.786801                 0  \n",
      "911           47.570392                 0  \n",
      "912           51.745156                 0  \n",
      "913           49.880528                 0  \n",
      "914           51.325852                 1  \n",
      "915           53.442020                 0  \n",
      "916           55.326122                 1  \n",
      "917           54.657650                 1  \n"
     ]
    }
   ],
   "source": [
    "# Optional: Get all the data for the duplicate mouse ID. \n",
    "duplicate_mouse_all = mouse_complete[mouse_complete.duplicated(['Mouse ID', 'Timepoint'], keep=False)]\n",
    "\n",
    "print(f'All the Data for the Duplicate Mouse ID:\\n{duplicate_mouse_all}')"
   ]
  },
  {
   "cell_type": "code",
   "execution_count": 5,
   "metadata": {},
   "outputs": [
    {
     "data": {
      "text/html": [
       "<div>\n",
       "<style scoped>\n",
       "    .dataframe tbody tr th:only-of-type {\n",
       "        vertical-align: middle;\n",
       "    }\n",
       "\n",
       "    .dataframe tbody tr th {\n",
       "        vertical-align: top;\n",
       "    }\n",
       "\n",
       "    .dataframe thead th {\n",
       "        text-align: right;\n",
       "    }\n",
       "</style>\n",
       "<table border=\"1\" class=\"dataframe\">\n",
       "  <thead>\n",
       "    <tr style=\"text-align: right;\">\n",
       "      <th></th>\n",
       "      <th>Mouse ID</th>\n",
       "      <th>Drug Regimen</th>\n",
       "      <th>Sex</th>\n",
       "      <th>Age_months</th>\n",
       "      <th>Weight (g)</th>\n",
       "      <th>Timepoint</th>\n",
       "      <th>Tumor Volume (mm3)</th>\n",
       "      <th>Metastatic Sites</th>\n",
       "    </tr>\n",
       "  </thead>\n",
       "  <tbody>\n",
       "    <tr>\n",
       "      <th>0</th>\n",
       "      <td>k403</td>\n",
       "      <td>Ramicane</td>\n",
       "      <td>Male</td>\n",
       "      <td>21</td>\n",
       "      <td>16</td>\n",
       "      <td>0</td>\n",
       "      <td>45.000000</td>\n",
       "      <td>0</td>\n",
       "    </tr>\n",
       "    <tr>\n",
       "      <th>1</th>\n",
       "      <td>k403</td>\n",
       "      <td>Ramicane</td>\n",
       "      <td>Male</td>\n",
       "      <td>21</td>\n",
       "      <td>16</td>\n",
       "      <td>5</td>\n",
       "      <td>38.825898</td>\n",
       "      <td>0</td>\n",
       "    </tr>\n",
       "    <tr>\n",
       "      <th>2</th>\n",
       "      <td>k403</td>\n",
       "      <td>Ramicane</td>\n",
       "      <td>Male</td>\n",
       "      <td>21</td>\n",
       "      <td>16</td>\n",
       "      <td>10</td>\n",
       "      <td>35.014271</td>\n",
       "      <td>1</td>\n",
       "    </tr>\n",
       "    <tr>\n",
       "      <th>3</th>\n",
       "      <td>k403</td>\n",
       "      <td>Ramicane</td>\n",
       "      <td>Male</td>\n",
       "      <td>21</td>\n",
       "      <td>16</td>\n",
       "      <td>15</td>\n",
       "      <td>34.223992</td>\n",
       "      <td>1</td>\n",
       "    </tr>\n",
       "    <tr>\n",
       "      <th>4</th>\n",
       "      <td>k403</td>\n",
       "      <td>Ramicane</td>\n",
       "      <td>Male</td>\n",
       "      <td>21</td>\n",
       "      <td>16</td>\n",
       "      <td>20</td>\n",
       "      <td>32.997729</td>\n",
       "      <td>1</td>\n",
       "    </tr>\n",
       "  </tbody>\n",
       "</table>\n",
       "</div>"
      ],
      "text/plain": [
       "  Mouse ID Drug Regimen   Sex  Age_months  Weight (g)  Timepoint  \\\n",
       "0     k403     Ramicane  Male          21          16          0   \n",
       "1     k403     Ramicane  Male          21          16          5   \n",
       "2     k403     Ramicane  Male          21          16         10   \n",
       "3     k403     Ramicane  Male          21          16         15   \n",
       "4     k403     Ramicane  Male          21          16         20   \n",
       "\n",
       "   Tumor Volume (mm3)  Metastatic Sites  \n",
       "0           45.000000                 0  \n",
       "1           38.825898                 0  \n",
       "2           35.014271                 1  \n",
       "3           34.223992                 1  \n",
       "4           32.997729                 1  "
      ]
     },
     "execution_count": 5,
     "metadata": {},
     "output_type": "execute_result"
    }
   ],
   "source": [
    "# Create a clean DataFrame by dropping the duplicate mouse by its ID.\n",
    "clean_mouse_complete = mouse_complete.drop_duplicates(subset=['Mouse ID', 'Timepoint'], keep='last')\n",
    "clean_mouse_complete.head()"
   ]
  },
  {
   "cell_type": "code",
   "execution_count": 6,
   "metadata": {},
   "outputs": [
    {
     "name": "stdout",
     "output_type": "stream",
     "text": [
      "The Number of Mice After Cleaning Data: 1888\n"
     ]
    }
   ],
   "source": [
    "# Checking the number of mice in the clean DataFrame.\n",
    "num_mouse_clean = clean_mouse_complete['Mouse ID'].value_counts().sum()\n",
    "\n",
    "print(f'The Number of Mice After Cleaning Data: {num_mouse_clean}')"
   ]
  },
  {
   "cell_type": "markdown",
   "metadata": {},
   "source": [
    "## Summary Statistics"
   ]
  },
  {
   "cell_type": "code",
   "execution_count": 7,
   "metadata": {},
   "outputs": [
    {
     "data": {
      "text/html": [
       "<div>\n",
       "<style scoped>\n",
       "    .dataframe tbody tr th:only-of-type {\n",
       "        vertical-align: middle;\n",
       "    }\n",
       "\n",
       "    .dataframe tbody tr th {\n",
       "        vertical-align: top;\n",
       "    }\n",
       "\n",
       "    .dataframe thead th {\n",
       "        text-align: right;\n",
       "    }\n",
       "</style>\n",
       "<table border=\"1\" class=\"dataframe\">\n",
       "  <thead>\n",
       "    <tr style=\"text-align: right;\">\n",
       "      <th></th>\n",
       "      <th>Tumor Vol (mm3) Mean</th>\n",
       "      <th>Tumor Vol (mm3) Median</th>\n",
       "      <th>Tumor Vol (mm3) Variance</th>\n",
       "      <th>Tumor Vol (mm3) Standard Deviation</th>\n",
       "      <th>Tumor Vol (mm3) Standard Error Mean</th>\n",
       "    </tr>\n",
       "    <tr>\n",
       "      <th>Drug Regimen</th>\n",
       "      <th></th>\n",
       "      <th></th>\n",
       "      <th></th>\n",
       "      <th></th>\n",
       "      <th></th>\n",
       "    </tr>\n",
       "  </thead>\n",
       "  <tbody>\n",
       "    <tr>\n",
       "      <th>Capomulin</th>\n",
       "      <td>40.675741</td>\n",
       "      <td>41.557809</td>\n",
       "      <td>24.947764</td>\n",
       "      <td>4.994774</td>\n",
       "      <td>0.329346</td>\n",
       "    </tr>\n",
       "    <tr>\n",
       "      <th>Ceftamin</th>\n",
       "      <td>52.591172</td>\n",
       "      <td>51.776157</td>\n",
       "      <td>39.290177</td>\n",
       "      <td>6.268188</td>\n",
       "      <td>0.469821</td>\n",
       "    </tr>\n",
       "    <tr>\n",
       "      <th>Infubinol</th>\n",
       "      <td>52.884795</td>\n",
       "      <td>51.820584</td>\n",
       "      <td>43.128684</td>\n",
       "      <td>6.567243</td>\n",
       "      <td>0.492236</td>\n",
       "    </tr>\n",
       "    <tr>\n",
       "      <th>Ketapril</th>\n",
       "      <td>55.235638</td>\n",
       "      <td>53.698743</td>\n",
       "      <td>68.553577</td>\n",
       "      <td>8.279709</td>\n",
       "      <td>0.603860</td>\n",
       "    </tr>\n",
       "    <tr>\n",
       "      <th>Naftisol</th>\n",
       "      <td>54.331565</td>\n",
       "      <td>52.509285</td>\n",
       "      <td>66.173479</td>\n",
       "      <td>8.134708</td>\n",
       "      <td>0.596466</td>\n",
       "    </tr>\n",
       "    <tr>\n",
       "      <th>Placebo</th>\n",
       "      <td>54.033581</td>\n",
       "      <td>52.288934</td>\n",
       "      <td>61.168083</td>\n",
       "      <td>7.821003</td>\n",
       "      <td>0.581331</td>\n",
       "    </tr>\n",
       "    <tr>\n",
       "      <th>Propriva</th>\n",
       "      <td>52.382993</td>\n",
       "      <td>50.783528</td>\n",
       "      <td>43.220205</td>\n",
       "      <td>6.574208</td>\n",
       "      <td>0.526358</td>\n",
       "    </tr>\n",
       "    <tr>\n",
       "      <th>Ramicane</th>\n",
       "      <td>40.216745</td>\n",
       "      <td>40.673236</td>\n",
       "      <td>23.486704</td>\n",
       "      <td>4.846308</td>\n",
       "      <td>0.320955</td>\n",
       "    </tr>\n",
       "    <tr>\n",
       "      <th>Stelasyn</th>\n",
       "      <td>54.233149</td>\n",
       "      <td>52.431737</td>\n",
       "      <td>59.450562</td>\n",
       "      <td>7.710419</td>\n",
       "      <td>0.573111</td>\n",
       "    </tr>\n",
       "    <tr>\n",
       "      <th>Zoniferol</th>\n",
       "      <td>53.236507</td>\n",
       "      <td>51.818479</td>\n",
       "      <td>48.533355</td>\n",
       "      <td>6.966589</td>\n",
       "      <td>0.516398</td>\n",
       "    </tr>\n",
       "  </tbody>\n",
       "</table>\n",
       "</div>"
      ],
      "text/plain": [
       "              Tumor Vol (mm3) Mean  Tumor Vol (mm3) Median  \\\n",
       "Drug Regimen                                                 \n",
       "Capomulin                40.675741               41.557809   \n",
       "Ceftamin                 52.591172               51.776157   \n",
       "Infubinol                52.884795               51.820584   \n",
       "Ketapril                 55.235638               53.698743   \n",
       "Naftisol                 54.331565               52.509285   \n",
       "Placebo                  54.033581               52.288934   \n",
       "Propriva                 52.382993               50.783528   \n",
       "Ramicane                 40.216745               40.673236   \n",
       "Stelasyn                 54.233149               52.431737   \n",
       "Zoniferol                53.236507               51.818479   \n",
       "\n",
       "              Tumor Vol (mm3) Variance  Tumor Vol (mm3) Standard Deviation  \\\n",
       "Drug Regimen                                                                 \n",
       "Capomulin                    24.947764                            4.994774   \n",
       "Ceftamin                     39.290177                            6.268188   \n",
       "Infubinol                    43.128684                            6.567243   \n",
       "Ketapril                     68.553577                            8.279709   \n",
       "Naftisol                     66.173479                            8.134708   \n",
       "Placebo                      61.168083                            7.821003   \n",
       "Propriva                     43.220205                            6.574208   \n",
       "Ramicane                     23.486704                            4.846308   \n",
       "Stelasyn                     59.450562                            7.710419   \n",
       "Zoniferol                    48.533355                            6.966589   \n",
       "\n",
       "              Tumor Vol (mm3) Standard Error Mean  \n",
       "Drug Regimen                                       \n",
       "Capomulin                                0.329346  \n",
       "Ceftamin                                 0.469821  \n",
       "Infubinol                                0.492236  \n",
       "Ketapril                                 0.603860  \n",
       "Naftisol                                 0.596466  \n",
       "Placebo                                  0.581331  \n",
       "Propriva                                 0.526358  \n",
       "Ramicane                                 0.320955  \n",
       "Stelasyn                                 0.573111  \n",
       "Zoniferol                                0.516398  "
      ]
     },
     "execution_count": 7,
     "metadata": {},
     "output_type": "execute_result"
    }
   ],
   "source": [
    "# Generate a summary statistics table of mean, median, variance, standard deviation, and SEM of the tumor volume for each regimen\n",
    "\n",
    "# Use groupby and summary statistical methods to calculate the following properties of each drug regimen: \n",
    "# mean, median, variance, standard deviation, and SEM of the tumor volume. \n",
    "# Assemble the resulting series into a single summary dataframe.\n",
    "\n",
    "grouped_drug = clean_mouse_complete.groupby('Drug Regimen')       #Grouping Mice by Drug Regimen\n",
    "mouse_tumor_mean = grouped_drug['Tumor Volume (mm3)'].mean()      #Finding the Average Tumor Volume\n",
    "mouse_tumor_median = grouped_drug['Tumor Volume (mm3)'].median()  #Finding the Median Tumor Volume\n",
    "mouse_tumor_variance = grouped_drug['Tumor Volume (mm3)'].var()   #Find the Variance of Tumor Volume\n",
    "mouse_tumor_std = grouped_drug['Tumor Volume (mm3)'].std()        #Finding the STD of Tumor Volume\n",
    "mouse_tumor_SEM = grouped_drug['Tumor Volume (mm3)'].sem()        #Finding the SEM of Tumor Volume\n",
    "\n",
    "summaryStats = pd.DataFrame({'Tumor Vol (mm3) Mean':mouse_tumor_mean, 'Tumor Vol (mm3) Median':mouse_tumor_median,\n",
    "                        'Tumor Vol (mm3) Variance':mouse_tumor_variance, 'Tumor Vol (mm3) Standard Deviation':mouse_tumor_std, \n",
    "                        'Tumor Vol (mm3) Standard Error Mean':mouse_tumor_SEM})\n",
    "summaryStats\n"
   ]
  },
  {
   "cell_type": "code",
   "execution_count": 8,
   "metadata": {},
   "outputs": [
    {
     "data": {
      "text/html": [
       "<div>\n",
       "<style scoped>\n",
       "    .dataframe tbody tr th:only-of-type {\n",
       "        vertical-align: middle;\n",
       "    }\n",
       "\n",
       "    .dataframe tbody tr th {\n",
       "        vertical-align: top;\n",
       "    }\n",
       "\n",
       "    .dataframe thead tr th {\n",
       "        text-align: left;\n",
       "    }\n",
       "\n",
       "    .dataframe thead tr:last-of-type th {\n",
       "        text-align: right;\n",
       "    }\n",
       "</style>\n",
       "<table border=\"1\" class=\"dataframe\">\n",
       "  <thead>\n",
       "    <tr>\n",
       "      <th></th>\n",
       "      <th colspan=\"5\" halign=\"left\">Tumor Volume (mm3)</th>\n",
       "    </tr>\n",
       "    <tr>\n",
       "      <th></th>\n",
       "      <th>mean</th>\n",
       "      <th>median</th>\n",
       "      <th>var</th>\n",
       "      <th>std</th>\n",
       "      <th>sem</th>\n",
       "    </tr>\n",
       "    <tr>\n",
       "      <th>Drug Regimen</th>\n",
       "      <th></th>\n",
       "      <th></th>\n",
       "      <th></th>\n",
       "      <th></th>\n",
       "      <th></th>\n",
       "    </tr>\n",
       "  </thead>\n",
       "  <tbody>\n",
       "    <tr>\n",
       "      <th>Capomulin</th>\n",
       "      <td>40.675741</td>\n",
       "      <td>41.557809</td>\n",
       "      <td>24.947764</td>\n",
       "      <td>4.994774</td>\n",
       "      <td>0.329346</td>\n",
       "    </tr>\n",
       "    <tr>\n",
       "      <th>Ceftamin</th>\n",
       "      <td>52.591172</td>\n",
       "      <td>51.776157</td>\n",
       "      <td>39.290177</td>\n",
       "      <td>6.268188</td>\n",
       "      <td>0.469821</td>\n",
       "    </tr>\n",
       "    <tr>\n",
       "      <th>Infubinol</th>\n",
       "      <td>52.884795</td>\n",
       "      <td>51.820584</td>\n",
       "      <td>43.128684</td>\n",
       "      <td>6.567243</td>\n",
       "      <td>0.492236</td>\n",
       "    </tr>\n",
       "    <tr>\n",
       "      <th>Ketapril</th>\n",
       "      <td>55.235638</td>\n",
       "      <td>53.698743</td>\n",
       "      <td>68.553577</td>\n",
       "      <td>8.279709</td>\n",
       "      <td>0.603860</td>\n",
       "    </tr>\n",
       "    <tr>\n",
       "      <th>Naftisol</th>\n",
       "      <td>54.331565</td>\n",
       "      <td>52.509285</td>\n",
       "      <td>66.173479</td>\n",
       "      <td>8.134708</td>\n",
       "      <td>0.596466</td>\n",
       "    </tr>\n",
       "    <tr>\n",
       "      <th>Placebo</th>\n",
       "      <td>54.033581</td>\n",
       "      <td>52.288934</td>\n",
       "      <td>61.168083</td>\n",
       "      <td>7.821003</td>\n",
       "      <td>0.581331</td>\n",
       "    </tr>\n",
       "    <tr>\n",
       "      <th>Propriva</th>\n",
       "      <td>52.382993</td>\n",
       "      <td>50.783528</td>\n",
       "      <td>43.220205</td>\n",
       "      <td>6.574208</td>\n",
       "      <td>0.526358</td>\n",
       "    </tr>\n",
       "    <tr>\n",
       "      <th>Ramicane</th>\n",
       "      <td>40.216745</td>\n",
       "      <td>40.673236</td>\n",
       "      <td>23.486704</td>\n",
       "      <td>4.846308</td>\n",
       "      <td>0.320955</td>\n",
       "    </tr>\n",
       "    <tr>\n",
       "      <th>Stelasyn</th>\n",
       "      <td>54.233149</td>\n",
       "      <td>52.431737</td>\n",
       "      <td>59.450562</td>\n",
       "      <td>7.710419</td>\n",
       "      <td>0.573111</td>\n",
       "    </tr>\n",
       "    <tr>\n",
       "      <th>Zoniferol</th>\n",
       "      <td>53.236507</td>\n",
       "      <td>51.818479</td>\n",
       "      <td>48.533355</td>\n",
       "      <td>6.966589</td>\n",
       "      <td>0.516398</td>\n",
       "    </tr>\n",
       "  </tbody>\n",
       "</table>\n",
       "</div>"
      ],
      "text/plain": [
       "             Tumor Volume (mm3)                                          \n",
       "                           mean     median        var       std       sem\n",
       "Drug Regimen                                                             \n",
       "Capomulin             40.675741  41.557809  24.947764  4.994774  0.329346\n",
       "Ceftamin              52.591172  51.776157  39.290177  6.268188  0.469821\n",
       "Infubinol             52.884795  51.820584  43.128684  6.567243  0.492236\n",
       "Ketapril              55.235638  53.698743  68.553577  8.279709  0.603860\n",
       "Naftisol              54.331565  52.509285  66.173479  8.134708  0.596466\n",
       "Placebo               54.033581  52.288934  61.168083  7.821003  0.581331\n",
       "Propriva              52.382993  50.783528  43.220205  6.574208  0.526358\n",
       "Ramicane              40.216745  40.673236  23.486704  4.846308  0.320955\n",
       "Stelasyn              54.233149  52.431737  59.450562  7.710419  0.573111\n",
       "Zoniferol             53.236507  51.818479  48.533355  6.966589  0.516398"
      ]
     },
     "execution_count": 8,
     "metadata": {},
     "output_type": "execute_result"
    }
   ],
   "source": [
    "# Generate a summary statistics table of mean, median, variance, standard deviation, and SEM of the tumor volume for each regimen\n",
    "# Using the aggregation method, produce the same summary statistics in a single line\n",
    "\n",
    "summary2Stats = clean_mouse_complete.groupby('Drug Regimen').aggregate({'Tumor Volume (mm3)': ['mean', 'median', 'var', 'std', 'sem']})\n",
    "summary2Stats"
   ]
  },
  {
   "cell_type": "markdown",
   "metadata": {},
   "source": [
    "## Bar and Pie Charts"
   ]
  },
  {
   "cell_type": "code",
   "execution_count": 9,
   "metadata": {},
   "outputs": [
    {
     "data": {
      "text/plain": [
       "Text(0.5, 1.0, 'Total Number of Measurements for Each Drug Regimens')"
      ]
     },
     "execution_count": 9,
     "metadata": {},
     "output_type": "execute_result"
    },
    {
     "data": {
      "image/png": "[encoded data removed]",
      "text/plain": [
       "<Figure size 432x288 with 1 Axes>"
      ]
     },
     "metadata": {
      "needs_background": "light"
     },
     "output_type": "display_data"
    }
   ],
   "source": [
    "# Generate a bar plot showing the total number of measurements taken on each drug regimen using pandas.\n",
    "\n",
    "#Finding the Total Number of Measurements for Each Drug\n",
    "grouped_drug = clean_mouse_complete.groupby('Drug Regimen') #Grouping Mice by Drug Regimen\n",
    "drug_count = grouped_drug['Mouse ID'].count()               #Counting the Number of Measurements for Each Drug.     \n",
    "\n",
    "#Plotting Bar Graph Using Pandas\n",
    "drug_count.plot(x='Drug Regimen', y='Total Number of Measurements', kind='bar', color='r', edgecolor = 'k')\n",
    "plt.ylabel('Total Number of Measurements') #Plotting Y-axis Label\n",
    "plt.title('Total Number of Measurements for Each Drug Regimens') #Plotting Title"
   ]
  },
  {
   "cell_type": "code",
   "execution_count": 10,
   "metadata": {},
   "outputs": [
    {
     "data": {
      "text/plain": [
       "Text(0.5, 1.0, 'Total Number of Measurements for Each Drug Regimens')"
      ]
     },
     "execution_count": 10,
     "metadata": {},
     "output_type": "execute_result"
    },
    {
     "data": {
      "image/png": "[encoded data removed]",
      "text/plain": [
       "<Figure size 432x288 with 1 Axes>"
      ]
     },
     "metadata": {
      "needs_background": "light"
     },
     "output_type": "display_data"
    }
   ],
   "source": [
    "# Generate a bar plot showing the total number of measurements taken on each drug regimen using pyplot.\n",
    "\n",
    "#Setting x-axis and Tick Locations\n",
    "grouped_drug = clean_mouse_complete.groupby('Drug Regimen') #Grouping Mice by Drug Regimen\n",
    "x_axis = np.arange(len(grouped_drug))\n",
    "tick_locations = [value for value in x_axis]\n",
    "\n",
    "#Grabbing the x-axis Labels\n",
    "drug_name = clean_mouse_complete['Drug Regimen'].sort_values(ascending=True).unique()\n",
    "\n",
    "#Finding the Total Number of Measurements for Each Drug\n",
    "drug_count = grouped_drug['Mouse ID'].count() #This dtype is currently an int64. It needs to be a list.\n",
    "drug_count_list = [row for row in drug_count]  #Putting Drug Count Values into list.\n",
    "\n",
    "#Creating the Bar Graph Using PyPlot\n",
    "plt.bar(x_axis, drug_count_list, color='b',edgecolor='k')\n",
    "plt.xticks(tick_locations, drug_name, rotation='vertical')       #Plotting xticks\n",
    "plt.xlabel('Drug Regimen')                                       #Plotting X-axis labels\n",
    "plt.ylabel('Total Number of Measurements')                       #Plotting Y-axis labels\n",
    "plt.title('Total Number of Measurements for Each Drug Regimens') #Plotting Title"
   ]
  },
  {
   "cell_type": "code",
   "execution_count": 11,
   "metadata": {},
   "outputs": [
    {
     "data": {
      "text/plain": [
       "Text(0.5, 1.0, 'Number of Unique Mice of Each Regimen')"
      ]
     },
     "execution_count": 11,
     "metadata": {},
     "output_type": "execute_result"
    },
    {
     "data": {
      "image/png": "[encoded data removed]",
      "text/plain": [
       "<Figure size 432x288 with 1 Axes>"
      ]
     },
     "metadata": {
      "needs_background": "light"
     },
     "output_type": "display_data"
    }
   ],
   "source": [
    "# The Rubric and Jupyter Notebook Instructions are Conflicting. Above Asks for Total Number of Measurments\n",
    "# taken on each drug regimen while the rubric asks for bar plots that depict the number of unique mice for each\n",
    "# treatment regimen. Below is Bar Plot Depicting the Number of Unique Mice of Each Regimen Using the Pandas Method.\n",
    "\n",
    "#Finding the Total Number of Unique Mice\n",
    "unique_mouse = clean_mouse_complete.groupby('Drug Regimen')  #Grouping by Drug Regimen \n",
    "num_unique_mouse = unique_mouse['Mouse ID'].nunique()\n",
    "\n",
    "#Plotting Bar Graph Using Pandas\n",
    "num_unique_mouse.plot(x='Drug Regimen', y='Mouse ID', kind='bar', color='purple', edgecolor = 'k')\n",
    "plt.ylabel('Number of Unique Mice') #Plotting Y-axis Label\n",
    "plt.title('Number of Unique Mice of Each Regimen') #Plotting Title"
   ]
  },
  {
   "cell_type": "code",
   "execution_count": 12,
   "metadata": {},
   "outputs": [
    {
     "data": {
      "text/plain": [
       "Text(0.5, 1.0, 'Number of Unique Mice of Each Regimen')"
      ]
     },
     "execution_count": 12,
     "metadata": {},
     "output_type": "execute_result"
    },
    {
     "data": {
      "image/png": "[encoded data removed]",
      "text/plain": [
       "<Figure size 432x288 with 1 Axes>"
      ]
     },
     "metadata": {
      "needs_background": "light"
     },
     "output_type": "display_data"
    }
   ],
   "source": [
    "# The Rubric and Jupyter Notebook Instructions are Conflicting. Above Asks for Total Number of Measurments\n",
    "# taken on each drug regimen while the rubric asks for bar plots that depict the number of unique mice for each\n",
    "# treatment regimen. Below is Bar Plot Depicting the Number of Unique Mice of Each Regimen Using the PyPlot Method.\n",
    "\n",
    "# Generate a bar plot showing the Number of Unique Mice of Each Regimen Using the PyPlot Method.\n",
    "\n",
    "#Setting x-axis and Tick Locations\n",
    "unique_mouse = clean_mouse_complete.groupby('Drug Regimen') #Grouping Mice by Drug Regimen\n",
    "x_axis = np.arange(len(unique_mouse))\n",
    "tick_locations = [value for value in x_axis]\n",
    "\n",
    "#Grabbing the x-axis Labels\n",
    "drug_name = clean_mouse_complete['Drug Regimen'].sort_values(ascending=True).unique()\n",
    "\n",
    "#Finding the Number of Unique Mice\n",
    "num_unique_mice = unique_mouse['Mouse ID'].nunique() #This dtype is currently an int64. It needs to be a list.\n",
    "mice_count_list = [row for row in num_unique_mice]  #Putting Drug Count Values into list.\n",
    "\n",
    "#Creating the Bar Graph Using PyPlot\n",
    "plt.bar(x_axis, mice_count_list, color='orange',edgecolor='k')\n",
    "plt.xticks(tick_locations, drug_name, rotation='vertical')       #Plotting xticks\n",
    "plt.xlabel('Drug Regimen')                                       #Plotting X-axis labels\n",
    "plt.ylabel('Number of Unique Mice')                              #Plotting Y-axis labels\n",
    "plt.title('Number of Unique Mice of Each Regimen') #Plotting Title"
   ]
  },
  {
   "cell_type": "code",
   "execution_count": 13,
   "metadata": {},
   "outputs": [
    {
     "data": {
      "text/plain": [
       "<matplotlib.axes._subplots.AxesSubplot at 0x1a33534b370>"
      ]
     },
     "execution_count": 13,
     "metadata": {},
     "output_type": "execute_result"
    },
    {
     "data": {
      "image/png": "[encoded data removed]",
      "text/plain": [
       "<Figure size 360x360 with 1 Axes>"
      ]
     },
     "metadata": {},
     "output_type": "display_data"
    }
   ],
   "source": [
    "# Generate a pie plot showing the distribution of female versus male mice using pandas\n",
    "\n",
    "##NOTE: I am assuming the Rubric has a typo and is asking for Two Pie Plots, not Bar Plots.##\n",
    "male_mouse = clean_mouse_complete.loc[clean_mouse_complete['Sex']=='Male',:].count()     #Locating the Male Mice in df.\n",
    "female_mouse = clean_mouse_complete.loc[clean_mouse_complete['Sex']=='Female',:].count() #Locating the Female Mice in df.\n",
    "\n",
    "male_mouse = male_mouse['Sex']     #Grabbing the Values \n",
    "female_mouse = female_mouse['Sex'] #Grabbing the Values\n",
    "\n",
    "sex_of_mouse = pd.DataFrame({'sex':[male_mouse, female_mouse]}, index=['Male', 'Female']) #Creating New DataFrame of the Sex\n",
    "\n",
    "#Plotting the Pie Plot Using Pandas\n",
    "explode = [0,0.05]\n",
    "sex_of_mouse.plot(y='sex', kind='pie', figsize=(5,5), explode=explode, shadow=True, autopct=\"%1.1f%%\")"
   ]
  },
  {
   "cell_type": "code",
   "execution_count": 14,
   "metadata": {},
   "outputs": [
    {
     "data": {
      "text/plain": [
       "([<matplotlib.patches.Wedge at 0x1a3353cb880>,\n",
       "  <matplotlib.patches.Wedge at 0x1a3353cbf70>],\n",
       " [Text(-0.025622895044835736, 1.0997015355311284, 'male'),\n",
       "  Text(0.026787464450772413, -1.1496879714723898, 'female')],\n",
       " [Text(-0.013976124569910401, 0.5998372011987972, '50.7%'),\n",
       "  Text(0.015140740776523538, -0.6498236360496117, '49.3%')])"
      ]
     },
     "execution_count": 14,
     "metadata": {},
     "output_type": "execute_result"
    },
    {
     "data": {
      "image/png": "[encoded data removed]",
      "text/plain": [
       "<Figure size 432x288 with 1 Axes>"
      ]
     },
     "metadata": {},
     "output_type": "display_data"
    }
   ],
   "source": [
    "# Generate a pie plot showing the distribution of female versus male mice using pyplot\n",
    "\n",
    "##NOTE: I am assuming the Rubric has a typo and is asking for Two Pie Plots, not Bar Plots.##\n",
    "male_mouse = clean_mouse_complete.loc[clean_mouse_complete['Sex']=='Male',:].count()      #Locating the Male Mice in df.\n",
    "female_mouse = clean_mouse_complete.loc[clean_mouse_complete['Sex']=='Female',:].count()   #Locating the Female Mice in df.\n",
    "\n",
    "male_mouse = male_mouse['Sex']     #Grabbing the Values\n",
    "female_mouse = female_mouse['Sex'] #Grabbing the Values\n",
    "\n",
    "sex_of_mouse = ['male', 'female']  #Creating List of Names of Labels\n",
    "sex_of_mouse_count = [male_mouse, female_mouse] #Putting the Values into a List\n",
    "\n",
    "#Plotting the Pie Plot Using PyPlot\n",
    "explode = [0,0.05]\n",
    "colors = ['green', 'yellow']\n",
    "plt.axis(\"equal\")\n",
    "plt.pie(sex_of_mouse_count, explode=explode, labels=sex_of_mouse, colors=colors, autopct=\"%1.1f%%\", shadow=True)"
   ]
  },
  {
   "cell_type": "markdown",
   "metadata": {},
   "source": [
    "## Quartiles, Outliers and Boxplots"
   ]
  },
  {
   "cell_type": "code",
   "execution_count": 15,
   "metadata": {},
   "outputs": [],
   "source": [
    "# Calculate the final tumor volume of each mouse across four of the treatment regimens:  \n",
    "# Capomulin, Ramicane, Infubinol, and Ceftamin\n",
    "\n",
    "# Start by getting the last (greatest) timepoint for each mouse\n",
    "groupby_mouse = clean_mouse_complete.groupby('Mouse ID')         #Grouping by Mouse ID\n",
    "lastTimepoint = groupby_mouse['Timepoint'].max()                 #Finding Max Timepoint of Each Mouse\n",
    "lastTimepoint = pd.DataFrame({'Final Timepoint': lastTimepoint}) #Creating DataFrame of lastTimepoint\n",
    "\n",
    "# Merge this group df with the original dataframe to get the tumor volume at the last timepoint\n",
    "merge_mouse = pd.merge(lastTimepoint, clean_mouse_complete, on='Mouse ID')\n",
    "\n",
    "# Locating the Timepoint that Matches the Final Timepoint. By Doing this, I can grab the Final Tumor Volume\n",
    "merge_mouse = merge_mouse.loc[merge_mouse['Timepoint'] == merge_mouse['Final Timepoint'], :]\n",
    "\n",
    "# Grabbing the Columns that I need in the Merge Mouse DataFrame\n",
    "merge_mouse = pd.DataFrame(merge_mouse[['Mouse ID', 'Drug Regimen', 'Tumor Volume (mm3)', 'Final Timepoint']])\n",
    "\n",
    "#Renaming Tumor Column\n",
    "merge_mouse = merge_mouse.rename(columns={'Tumor Volume (mm3)': 'Final Tumor Volume (mm3)'})\n",
    "\n",
    "#Locating the Final Tumor Volume Only for Capomulin, Ramicane, Infubinol, and Ceftamin\n",
    "merge_mouse = merge_mouse.loc[(merge_mouse['Drug Regimen']=='Capomulin') | (merge_mouse['Drug Regimen']=='Ramicane') |\n",
    "                              (merge_mouse['Drug Regimen']=='Infubinol') | (merge_mouse['Drug Regimen']=='Ceftamin'),:]\n",
    "\n",
    "merge_mouse = merge_mouse.reset_index()"
   ]
  },
  {
   "cell_type": "code",
   "execution_count": 16,
   "metadata": {},
   "outputs": [
    {
     "name": "stdout",
     "output_type": "stream",
     "text": [
      "Capomulin: \n",
      "Lower Quartile of Tumor Volume: 32.37735684 \n",
      "Median of Tumor Volume: 38.125164399999996 \n",
      "Upper Quartile of Tumor Volume: 40.1592203 \n",
      "IQR of Tumor Volume: 7.781863460000004 \n",
      "Possible Outliers: 20.70456164999999, 51.83201549\n",
      "\n",
      "Ramicane: \n",
      "Lower Quartile of Tumor Volume: 31.56046955 \n",
      "Median of Tumor Volume: 36.56165229 \n",
      "Upper Quartile of Tumor Volume: 40.65900627 \n",
      "IQR of Tumor Volume: 9.098536719999998 \n",
      "Possible Outliers: 17.912664470000003, 54.30681135\n",
      "\n",
      "Infubinol: \n",
      "Lower Quartile of Tumor Volume: 54.04860769 \n",
      "Median of Tumor Volume: 60.16518046 \n",
      "Upper Quartile of Tumor Volume: 65.52574285 \n",
      "IQR of Tumor Volume: 11.477135160000003 \n",
      "Possible Outliers: 36.83290494999999, 82.74144559000001\n",
      "\n",
      "Ceftamin: \n",
      "Lower Quartile of Tumor Volume: 48.72207785 \n",
      "Median of Tumor Volume: 59.85195552 \n",
      "Upper Quartile of Tumor Volume: 64.29983003 \n",
      "IQR of Tumor Volume: 15.577752179999997 \n",
      "Possible Outliers: 25.355449580000002, 87.66645829999999\n"
     ]
    }
   ],
   "source": [
    "# Put treatments into a list for for loop (and later for plot labels)\n",
    "# Create empty list to fill with tumor vol data (for plotting)\n",
    "tumor_capomulin = []\n",
    "tumor_ramicane = []\n",
    "tumor_infubinol = []\n",
    "tumor_ceftamin= []\n",
    "\n",
    "for row in range(len(merge_mouse)):\n",
    "    if merge_mouse['Drug Regimen'][row]=='Capomulin':\n",
    "        tumor_capomulin.append(merge_mouse['Final Tumor Volume (mm3)'][row])\n",
    "    elif merge_mouse['Drug Regimen'][row]=='Ramicane':\n",
    "        tumor_ramicane.append(merge_mouse['Final Tumor Volume (mm3)'][row])\n",
    "    elif merge_mouse['Drug Regimen'][row]=='Infubinol':\n",
    "        tumor_infubinol.append(merge_mouse['Final Tumor Volume (mm3)'][row])\n",
    "    else:\n",
    "        tumor_ceftamin.append(merge_mouse['Final Tumor Volume (mm3)'][row])        \n",
    "# Calculate the IQR and quantitatively determine if there are any potential outliers.\n",
    "    # Locate the rows which contain mice on each drug and get the tumor volumes\n",
    "    # add subset \n",
    "    # Determine outliers using upper and lower bounds\n",
    "\n",
    "# Calculating the Quartiles\n",
    "quartiles_capomulin = np.quantile(tumor_capomulin,[.25,.5,.75])\n",
    "quartiles_ramicane = np.quantile(tumor_ramicane,[.25,.5,.75])\n",
    "quartiles_infubinol = np.quantile(tumor_infubinol,[.25,.5,.75])\n",
    "quartiles_ceftamin = np.quantile(tumor_ceftamin,[.25,.5,.75])\n",
    "\n",
    "# Calculating the Lower Quartile\n",
    "lowerq_capomulin = quartiles_capomulin[0]\n",
    "lowerq_ramicane = quartiles_ramicane[0]\n",
    "lowerq_infubinol = quartiles_infubinol[0]\n",
    "lowerq_ceftamin = quartiles_ceftamin[0]\n",
    "\n",
    "# Calculating the Median\n",
    "median_capomulin = quartiles_capomulin[1]\n",
    "median_ramicane = quartiles_ramicane[1]\n",
    "median_infubinol = quartiles_infubinol[1]\n",
    "median_ceftamin = quartiles_ceftamin[1]\n",
    "\n",
    "# Calculating the Upper Quartile\n",
    "upperq_capomulin = quartiles_capomulin[2]\n",
    "upperq_ramicane = quartiles_ramicane[2]\n",
    "upperq_infubinol = quartiles_infubinol[2]\n",
    "upperq_ceftamin = quartiles_ceftamin[2]\n",
    "\n",
    "# Calculating the IQR\n",
    "iqr_capomulin = upperq_capomulin-lowerq_capomulin\n",
    "iqr_ramicane = upperq_ramicane-lowerq_ramicane\n",
    "iqr_infubinol = upperq_infubinol-lowerq_infubinol\n",
    "iqr_ceftamin = upperq_ceftamin-lowerq_ceftamin\n",
    "\n",
    "# Calculating the Lower Bound\n",
    "lower_bound_capomulin = lowerq_capomulin - (1.5*iqr_capomulin)\n",
    "lower_bound_ramicane = lowerq_ramicane - (1.5*iqr_ramicane)\n",
    "lower_bound_infubinol = lowerq_infubinol - (1.5*iqr_infubinol)\n",
    "lower_bound_ceftamin = lowerq_ceftamin - (1.5*iqr_ceftamin)\n",
    "\n",
    "# Calculating the Upper Bound\n",
    "upper_bound_capomulin = upperq_capomulin + (1.5*iqr_capomulin)  \n",
    "upper_bound_ramicane = upperq_ramicane + (1.5*iqr_ramicane)\n",
    "upper_bound_infubinol = upperq_infubinol + (1.5*iqr_infubinol)\n",
    "upper_bound_ceftamin = upperq_ceftamin + (1.5*iqr_ceftamin)\n",
    "\n",
    "print(f'Capomulin: \\nLower Quartile of Tumor Volume: {lowerq_capomulin} \\nMedian of Tumor Volume: {median_capomulin} \\nUpper Quartile of Tumor Volume: {upperq_capomulin} \\nIQR of Tumor Volume: {iqr_capomulin} \\nPossible Outliers: {lower_bound_capomulin}, {upper_bound_capomulin}')\n",
    "print(f'\\nRamicane: \\nLower Quartile of Tumor Volume: {lowerq_ramicane} \\nMedian of Tumor Volume: {median_ramicane} \\nUpper Quartile of Tumor Volume: {upperq_ramicane} \\nIQR of Tumor Volume: {iqr_ramicane} \\nPossible Outliers: {lower_bound_ramicane}, {upper_bound_ramicane}')\n",
    "print(f'\\nInfubinol: \\nLower Quartile of Tumor Volume: {lowerq_infubinol} \\nMedian of Tumor Volume: {median_infubinol} \\nUpper Quartile of Tumor Volume: {upperq_infubinol} \\nIQR of Tumor Volume: {iqr_infubinol} \\nPossible Outliers: {lower_bound_infubinol}, {upper_bound_infubinol}')\n",
    "print(f'\\nCeftamin: \\nLower Quartile of Tumor Volume: {lowerq_ceftamin} \\nMedian of Tumor Volume: {median_ceftamin} \\nUpper Quartile of Tumor Volume: {upperq_ceftamin} \\nIQR of Tumor Volume: {iqr_ceftamin} \\nPossible Outliers: {lower_bound_ceftamin}, {upper_bound_ceftamin}')"
   ]
  },
  {
   "cell_type": "code",
   "execution_count": 17,
   "metadata": {
    "scrolled": true
   },
   "outputs": [
    {
     "data": {
      "text/plain": [
       "Text(0.5, 1.0, 'Final Tumor Size for Each Drug Regimen')"
      ]
     },
     "execution_count": 17,
     "metadata": {},
     "output_type": "execute_result"
    },
    {
     "data": {
      "image/png": "[encoded data removed]",
      "text/plain": [
       "<Figure size 432x288 with 1 Axes>"
      ]
     },
     "metadata": {
      "needs_background": "light"
     },
     "output_type": "display_data"
    }
   ],
   "source": [
    "# Generate a box plot of the final tumor volume of each mouse across four regimens of interest\n",
    "tumor_data = zip(tumor_capomulin, tumor_ceftamin, tumor_infubinol, tumor_ramicane) #Zipping the Lists Together\n",
    "tumor_df = pd.DataFrame(tumor_data, columns=['Capomulin', 'Ceftamin', 'Infubinol', 'Ramicane']) #Creating a new df.\n",
    "\n",
    "#Plotting the Box Plot Using Pandas Method\n",
    "flierprops = dict(marker='o', markerfacecolor='r', markersize=12, linestyle='none', markeredgecolor='g') #Adjusting Fliers\n",
    "boxprops = dict(linestyle='-', color='b', linewidth=2) #Adjusting Box\n",
    "capprops = dict(linestyle='-', color='k', linewidth=1) #Adjusting Whiskers\n",
    "medianprops = dict(linestyle='-', color='g', linewidth=2) #Adjusting Median Line\n",
    "\n",
    "tumor_df.boxplot(grid=True, flierprops=flierprops, boxprops=boxprops, capprops=capprops, medianprops=medianprops, fontsize=15)\n",
    "plt.ylabel('Tumor Volume (mm3)', fontsize=15)\n",
    "plt.title('Final Tumor Size for Each Drug Regimen', fontsize=15)\n"
   ]
  },
  {
   "cell_type": "markdown",
   "metadata": {},
   "source": [
    "## Line and Scatter Plots"
   ]
  },
  {
   "cell_type": "code",
   "execution_count": 18,
   "metadata": {},
   "outputs": [
    {
     "data": {
      "text/plain": [
       "Text(0.5, 1.0, \"The Effects of Capomulin on Mouse s185's Tumor Over Time\")"
      ]
     },
     "execution_count": 18,
     "metadata": {},
     "output_type": "execute_result"
    },
    {
     "data": {
      "image/png": "[encoded data removed]",
      "text/plain": [
       "<Figure size 432x288 with 1 Axes>"
      ]
     },
     "metadata": {
      "needs_background": "light"
     },
     "output_type": "display_data"
    }
   ],
   "source": [
    "# Generate a line plot of tumor volume vs. time point for a mouse treated with Capomulin\n",
    "\n",
    "# Locating the Drug Regimen Capomulin and Mouse s185\n",
    "capomulin_mouses185 = clean_mouse_complete.loc[(clean_mouse_complete['Drug Regimen'] =='Capomulin') & (clean_mouse_complete['Mouse ID'] == 's185')]\n",
    "\n",
    "#Plotting the Line Plot Using Pandas Method\n",
    "capomulin_mouses185.plot('Timepoint', 'Tumor Volume (mm3)', linewidth=3, grid=True, fontsize=15, legend=False)\n",
    "plt.xlabel('Time', fontsize=15)\n",
    "plt.ylabel('Tumor Volume (mm3)', fontsize=15)\n",
    "plt.title(\"The Effects of Capomulin on Mouse s185's Tumor Over Time\", fontsize=15)"
   ]
  },
  {
   "cell_type": "code",
   "execution_count": 19,
   "metadata": {
    "scrolled": true
   },
   "outputs": [
    {
     "data": {
      "text/plain": [
       "(36.0, 45.0)"
      ]
     },
     "execution_count": 19,
     "metadata": {},
     "output_type": "execute_result"
    },
    {
     "data": {
      "image/png": "[encoded data removed]",
      "text/plain": [
       "<Figure size 432x288 with 1 Axes>"
      ]
     },
     "metadata": {
      "needs_background": "light"
     },
     "output_type": "display_data"
    }
   ],
   "source": [
    "# Generate a scatter plot of average tumor volume vs. mouse weight for the Capomulin regimen\n",
    "\n",
    "# Locating the Drug Regimen Capomulin\n",
    "capomulin_mice = clean_mouse_complete.loc[clean_mouse_complete['Drug Regimen'] == 'Capomulin',:]\n",
    "\n",
    "#Grouping the Data by Mouse ID\n",
    "groupby_mouseID = capomulin_mice.groupby('Mouse ID').mean()\n",
    "\n",
    "# Creating a new DataFrame and Resetting the Index\n",
    "avg_tumor_df = pd.DataFrame({'Average Tumor Volume (mm3)': groupby_mouseID['Tumor Volume (mm3)'], 'Average Weight (g)': groupby_mouseID['Weight (g)']})\n",
    "avg_tumor_df = avg_tumor_df.reset_index()\n",
    "\n",
    "# Plotting the Scatter Plot by the Pandas Method\n",
    "avg_tumor_df.plot.scatter('Average Weight (g)', 'Average Tumor Volume (mm3)', color='r', marker='o', s=50, fontsize=12, grid=True)\n",
    "plt.xlabel('Weight (g)', fontsize=12)\n",
    "plt.ylabel('Average Tumor Volume (mm3)', fontsize=12)\n",
    "plt.title('Mice on Capomulin: Weight vs Average Tumor Volume', fontsize=12)\n",
    "plt.xlim(14,26)\n",
    "plt.ylim(36,45)"
   ]
  },
  {
   "cell_type": "markdown",
   "metadata": {},
   "source": [
    "## Correlation and Regression"
   ]
  },
  {
   "cell_type": "raw",
   "metadata": {},
   "source": [
    "# Calculate the correlation coefficient and linear regression model \n",
    "# for mouse weight and average tumor volume for the Capomulin regimen\n"
   ]
  },
  {
   "cell_type": "code",
   "execution_count": 20,
   "metadata": {},
   "outputs": [
    {
     "data": {
      "text/plain": [
       "(34.0, 46.0)"
      ]
     },
     "execution_count": 20,
     "metadata": {},
     "output_type": "execute_result"
    },
    {
     "data": {
      "image/png": "[encoded data removed]",
      "text/plain": [
       "<Figure size 432x288 with 1 Axes>"
      ]
     },
     "metadata": {
      "needs_background": "light"
     },
     "output_type": "display_data"
    }
   ],
   "source": [
    "# Using the Data Above to Calculate the Correlation Coefficient (r)\n",
    "correlation = st.pearsonr(avg_tumor_df['Average Weight (g)'], avg_tumor_df['Average Tumor Volume (mm3)'])\n",
    "\n",
    "#Calculating the Linear Regression Model\n",
    "(slope, intercept, rvalue, pvalue, stderr) = st.linregress(avg_tumor_df['Average Weight (g)'], avg_tumor_df['Average Tumor Volume (mm3)'])\n",
    "\n",
    "# Creating Regress Values\n",
    "regress_values = slope*(avg_tumor_df['Average Weight (g)']) + intercept \n",
    "\n",
    "# Creating String to Print the Line Equation and R Value\n",
    "line_eq = 'y = ' + str(round(slope,2)) + 'x + ' + str(round(intercept,2))\n",
    "r_eq = 'r = ' + str(round(correlation[0],2))\n",
    "\n",
    "# Plotting the Scatter Plot with the Line of Regression and Correlation Coefficient\n",
    "avg_tumor_df.plot.scatter('Average Weight (g)', 'Average Tumor Volume (mm3)', color='r', marker='o', s=50, fontsize=12, grid=True)\n",
    "plt.plot(avg_tumor_df['Average Weight (g)'],regress_values,\"b-\")\n",
    "\n",
    "plt.annotate(line_eq,(15,44),fontsize=15,color=\"blue\")\n",
    "plt.annotate(r_eq,(15,43), fontsize=15,color='blue')\n",
    "plt.xlabel('Weight (g)', fontsize=12)\n",
    "plt.ylabel('Average Tumor Volume (mm3)', fontsize=12)\n",
    "plt.title('Mice on Capomulin: Weight vs Average Tumor Volume', fontsize=12)\n",
    "plt.xlim(14,26)\n",
    "plt.ylim(34,46)"
   ]
  },
  {
   "cell_type": "code",
   "execution_count": null,
   "metadata": {},
   "outputs": [],
   "source": []
  }
 ],
 "metadata": {
  "anaconda-cloud": {},
  "kernelspec": {
   "display_name": "Python 3",
   "language": "python",
   "name": "python3"
  },
  "language_info": {
   "codemirror_mode": {
    "name": "ipython",
    "version": 3
   },
   "file_extension": ".py",
   "mimetype": "text/x-python",
   "name": "python",
   "nbconvert_exporter": "python",
   "pygments_lexer": "ipython3",
   "version": "3.8.3"
  }
 },
 "nbformat": 4,
 "nbformat_minor": 4
}
